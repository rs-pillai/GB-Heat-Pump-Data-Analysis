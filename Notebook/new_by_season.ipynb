{
 "cells": [
  {
   "cell_type": "code",
   "execution_count": 1,
   "id": "ac18d42c",
   "metadata": {},
   "outputs": [],
   "source": [
    "import pandas as pd\n",
    "import numpy as np\n",
    "import os\n",
    "from sklearn.impute import SimpleImputer\n",
    "from sklearn.preprocessing import normalize\n",
    "from sklearn.cluster import KMeans\n",
    "import matplotlib.pyplot as plt\n",
    "from collections import defaultdict"
   ]
  },
  {
   "cell_type": "code",
   "execution_count": 2,
   "id": "77dd8f42",
   "metadata": {},
   "outputs": [],
   "source": [
    "def resample(df, filename):\n",
    "    if 'Timestamp' not in df.columns or 'Whole_System_Energy_Consumed' not in df.columns:\n",
    "        print(f\"Missing columns in {filename}\")\n",
    "        return None\n",
    "    df['Timestamp'] = pd.to_datetime(df['Timestamp'])\n",
    "    df.set_index('Timestamp', inplace=True)\n",
    "    df['actual consumption'] = df['Whole_System_Energy_Consumed'].diff().fillna(0)\n",
    "    hourly = df['actual consumption'].resample('H').sum()\n",
    "    return hourly.to_frame(name='actual consumption')"
   ]
  },
  {
   "cell_type": "code",
   "execution_count": null,
   "id": "3f9b58b1",
   "metadata": {},
   "outputs": [],
   "source": [
    "directory = \n",
    "all_profiles = []"
   ]
  },
  {
   "cell_type": "code",
   "execution_count": null,
   "id": "c568c03c",
   "metadata": {},
   "outputs": [],
   "source": [
    "for filename in os.listdir(directory):\n",
    "    if filename.endswith('.csv'):\n",
    "        df = pd.read_csv(os.path.join(directory, filename))\n",
    "        hourly = resample(df, filename)\n",
    "        if hourly is not None:\n",
    "            full_index = pd.date_range(start=hourly.index.min(), end=hourly.index.max(), freq='H')\n",
    "            hourly = hourly.reindex(full_index, fill_value=0)\n",
    "            avg_profile = hourly.groupby([hourly.index.month, hourly.index.hour]).mean()\n",
    "            flat = avg_profile.unstack(level=0).T\n",
    "            flat['House'] = filename\n",
    "            all_profiles.append(flat)"
   ]
  },
  {
   "cell_type": "code",
   "execution_count": null,
   "id": "b768771b",
   "metadata": {},
   "outputs": [],
   "source": []
  }
 ],
 "metadata": {
  "kernelspec": {
   "display_name": "base",
   "language": "python",
   "name": "python3"
  },
  "language_info": {
   "codemirror_mode": {
    "name": "ipython",
    "version": 3
   },
   "file_extension": ".py",
   "mimetype": "text/x-python",
   "name": "python",
   "nbconvert_exporter": "python",
   "pygments_lexer": "ipython3",
   "version": "3.11.7"
  }
 },
 "nbformat": 4,
 "nbformat_minor": 5
}
